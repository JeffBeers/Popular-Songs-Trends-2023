{
 "cells": [
  {
   "cell_type": "code",
   "execution_count": null,
   "metadata": {},
   "outputs": [],
   "source": [
    "import pandas as pd"
   ]
  },
  {
   "cell_type": "markdown",
   "metadata": {},
   "source": [
    "**Cleaning 1: spotify-2023.csv - Converting and Sorting Columns.**\n",
    "\n",
    "1. The Spotify-2023.csv file is cleaned below by reading only the columns needed. The 'track_name' and 'artist(s)_name' columns identify the song and artist, the 'streams' column identifies the popularity of the song, and the 'bpm', 'key', and 'mode' columns identify the song's musical attributes.\n",
    "\n",
    "2. Convert the 'streams' column to numeric using to_numeric() forcing errors to NaN \n",
    "\n",
    "3. Drop rows with NaN using .dropna()\n",
    "\n",
    "4. Convert 'streams' column to integers using .astype(int)\n",
    "\n",
    "5. Sort the DataFrame by 'streams' column in descending order using .sort() to have the most popular songs at the top of the DataFrame."
   ]
  },
  {
   "cell_type": "code",
   "execution_count": null,
   "metadata": {},
   "outputs": [],
   "source": [
    "columns_to_read = ['track_name', 'artist(s)_name', 'streams', 'bpm', 'key', 'mode']\n",
    "df_2023 = pd.read_csv('spotify-2023.csv', usecols= columns_to_read, encoding= 'latin-1')\n",
    "\n",
    "# Convert 'streams' column to numeric, forcing errors to NaN\n",
    "df_2023['streams'] = pd.to_numeric(df_2023['streams'], errors='coerce')\n",
    "\n",
    "# Drop rows with NaN if necessary\n",
    "df_2023 = df_2023.dropna()\n",
    "\n",
    "# Convert 'streams' column to integers\n",
    "df_2023['streams'] = df_2023['streams'].astype(int)\n",
    "\n",
    "# Sort the DataFrame by 'streams' column in descending order\n",
    "df_2023_desc = df.sort_values(by='streams', ascending=False)\n",
    "\n",
    "print(df_2023_desc)"
   ]
  },
  {
   "cell_type": "markdown",
   "metadata": {},
   "source": [
    "**Interpretation/Analysis 1: Most Common Attributes.**\n",
    "\n",
    "Rather than tracking the songs simply based on popularity alone, we will also take a look at each song's musical attributes.\n",
    "\n",
    "After having the initial DataFrame cleaned, we want to find the most common musical attributes for the entire DataFrame. \n",
    "\n",
    "We use .mode() to find the most common bpm, key, and mode used for each song. They are:\n",
    "\n",
    "BPM= 120 KEY= C# MODE= Major\n"
   ]
  },
  {
   "cell_type": "code",
   "execution_count": null,
   "metadata": {},
   "outputs": [],
   "source": [
    "common_bpm = df_2023_desc['bpm'].mode()[0]\n",
    "common_key = df_2023_desc['key'].mode()[0]\n",
    "common_mode = df_2023_desc['mode'].mode()[0]\n",
    "\n",
    "print(common_bpm, 'is the most common BPM in the entire DataFrame.')\n",
    "print(common_key, 'is the most common KEY in the entire DataFrame.')\n",
    "print(common_mode, 'is the most common MODE in the entire DataFrame.')"
   ]
  },
  {
   "cell_type": "markdown",
   "metadata": {},
   "source": [
    "**Interpretation/Analysis 2: Statistics of Attributes.**\n",
    "\n",
    "Now, we will calculate *how often* the the most common attributes occur in the entire DataFrame. This will take 4 steps.\n",
    "\n",
    "1. Count how many times an attribute occures in the column using .value_counts().\n",
    "\n",
    "2. Count the total number of entries for the column using .count().\n",
    "\n",
    "3. Divide the attribute count and total count, then multiply by 100 to get the percentage.\n",
    "\n",
    "4. Round the percentage to the nearest 2 decimal points using the round() function."
   ]
  },
  {
   "cell_type": "code",
   "execution_count": null,
   "metadata": {},
   "outputs": [],
   "source": [
    "#BPM Statistics\n",
    "count_bpm = df_2023_desc['bpm'].value_counts()[common_bpm]\n",
    "total_bpm = df_2023_desc['bpm'].count()\n",
    "percentage_bpm = (count_bpm / total_bpm) * 100\n",
    "percentage_bpm = round(percentage_bpm, 2)\n",
    "\n",
    "#KEY Statistics\n",
    "count_key = df_2023_desc['key'].value_counts()[common_key]\n",
    "total_key = df_2023_desc['key'].count()\n",
    "percentage_key = (count_key / total_key) * 100\n",
    "percentage_key = round(percentage_key, 2)\n",
    "\n",
    "#MODE Statistics\n",
    "count_mode = df_2023_desc['mode'].value_counts()[common_mode]\n",
    "total_mode = df_2023_desc['mode'].count()\n",
    "percentage_mode = (count_mode / total_mode) * 100\n",
    "percentage_mode = round(percentage_mode, 2)\n",
    "\n",
    "\n",
    "print(common_bpm, 'is the most common BPM of all the songs in the 2023 DataFrame. It occurs', count_bpm, 'times.', 'This is', percentage_bpm, 'percent of the entire DataFrame.')\n",
    "print(common_key, 'is the most common KEY of all the songs in the 2023 DataFrame. It occurs', count_key, 'times.', 'This is', percentage_key, 'percent of the entire DataFrame.')\n",
    "print(common_mode, 'is the most common MODE of all the songs in the 2023 DataFrame. It occurs', count_mode, 'times.', 'This is', percentage_mode, 'percent of the entire DataFrame.')"
   ]
  },
  {
   "cell_type": "markdown",
   "metadata": {},
   "source": [
    "**Now let's take a look at the top 10 songs of the DataFrame**"
   ]
  },
  {
   "cell_type": "code",
   "execution_count": null,
   "metadata": {},
   "outputs": [],
   "source": [
    "df_top10 = df_2023_desc.head(10)\n",
    "\n",
    "print(df_top10)"
   ]
  },
  {
   "cell_type": "markdown",
   "metadata": {},
   "source": [
    "**Interpretation/Analysis 3: Statistics of Attributes in Top 10 songs.**\n",
    "\n",
    "Now, we will calculate how often the the most common attributes occur in only the top 10 songs.\n",
    "\n",
    "We quickly find that the calculations above in Interpretation/Analysis 3 might work, but can raise errors if those attributes don't appear in the DataFrame. We will add some code to prevent errors, specifically in the BPM statistics where the most common BPM does not appear in the top 10.\n",
    "\n",
    "1. Count how many times an attribute occures in the column **using .get().** This will default to 0 if the value you are trying to find is not present (which is the case with BPM.)\n",
    "\n",
    "2. Count the total number of entries for the column using .count().\n",
    "\n",
    "3. Divide the attribute count and total count, then multiply by 100 to get the percentage.\n",
    "\n",
    "4. Round the percentage to the nearest 2 decimal points using the round() function.\n",
    "\n"
   ]
  },
  {
   "cell_type": "code",
   "execution_count": null,
   "metadata": {},
   "outputs": [],
   "source": [
    "#BPM Statistics in the Top 10 songs\n",
    "count_bpm_top10 = df_top10['bpm'].value_counts().get(common_bpm, 0) #Get count, or default to 0 if necessary\n",
    "total_bpm_top10 = df_top10['bpm'].count()\n",
    "percentage_bpm_top10 = (count_bpm_top10 / total_bpm_top10) * 100\n",
    "percentage_bpm_top10 = round(percentage_bpm_top10, 2)\n",
    "\n",
    "#Key Statistics in the Top 10 songs\n",
    "count_key_top10 = df_top10['key'].value_counts().get(common_key, 0) #Get count, or default to 0 if necessary\n",
    "total_key_top10 = df_top10['key'].count()\n",
    "percentage_key_top10 = (count_key_top10 / total_key_top10) * 100\n",
    "percentage_key_top10 = round(percentage_key_top10, 2)\n",
    "\n",
    "#Mode Statistics in the Top 10 songs\n",
    "count_mode_top10 = df_top10['mode'].value_counts().get(common_mode, 0) #Get count, or default to 0 if necessary\n",
    "total_mode_top10 = df_top10['mode'].count()\n",
    "percentage_mode_top10 = (count_mode_top10 / total_mode_top10) * 100\n",
    "percentage_mode_top10 = round(percentage_mode_top10, 2)\n",
    "\n",
    "print(common_bpm, 'BPM occurs', count_bpm_top10, 'times in the top-ten 2023 songs. This is', percentage_bpm_top10, 'percent of the top-ten songs, as opposed to', percentage_bpm, 'percent of the entire DataFrame.')\n",
    "print(common_key, 'occurs', count_key_top10, 'times in the top-ten 2023 songs. This is', percentage_key_top10, 'percent of the top-ten songs, as opposed to', percentage_key, 'percent of the entire DataFrame.')\n",
    "print(common_mode, 'occurs', count_mode_top10, 'times in the top-ten 2023 songs. This is', percentage_mode_top10, 'percent of the top-ten songs, as opposed to', percentage_mode, 'percent of the entire DataFrame.')\n"
   ]
  },
  {
   "cell_type": "markdown",
   "metadata": {},
   "source": [
    "**Cleaning 2: Spotify-2024.csv - Converting and Sorting Columns.**\n",
    "\n",
    "We have cleaned and analyzed the spotify-2023.csv file. The next part of this project will look at the top-ten 2023 songs, and compare their 'streams' count from 2023 to their 2024 current count. \n",
    "\n",
    "First, we will read, and clean, the spotify-2024.csv file. We can use mostly the same method as we did for the 2023.csv file. However, we need to add two steps. The 2024.csv 'Spotify Streams' contains commas, which results in errors. The new steps to clean the file are as follows:\n",
    "\n",
    "1. **NEW** Convert 'Spotify Streams' to a string using .astype(str)\n",
    "\n",
    "2. **NEW** Check for commas, and replace if present using str.replace\n",
    "\n",
    "3. Convert the 'streams' column to numeric using to_numeric() forcing errors to NaN \n",
    "\n",
    "4. Drop rows with NaN using .dropna()\n",
    "\n",
    "5. Convert 'Spotify Streams' column to integers using .astype(int)\n",
    "\n",
    "6. Sort the DataFrame by 'streams' column in descending order using .sort() to have the most popular songs at the top of the DataFrame."
   ]
  },
  {
   "cell_type": "code",
   "execution_count": null,
   "metadata": {},
   "outputs": [],
   "source": [
    "\n",
    "columns_to_read = ['Track', 'Artist', 'Spotify Streams']\n",
    "df_2024 = pd.read_csv('spotify-2024.csv', usecols=columns_to_read, encoding='latin-1')\n",
    "\n",
    "\n",
    "# NEW: Convert to string for inspection\n",
    "df_2024['Spotify Streams'] = df_2024['Spotify Streams'].astype(str)\n",
    "\n",
    "# NEW: Check for commas\n",
    "df_2024['Spotify Streams'] = df_2024['Spotify Streams'].str.replace(',', '')  #<-- Remove commas if present\n",
    "\n",
    "#Convert 'Spotify Streams' to numeric, forcing errors to NaN\n",
    "df_2024['Spotify Streams'] = pd.to_numeric(df_2024['Spotify Streams'], errors='coerce')\n",
    "\n",
    "# Drop rows with NaN values'\n",
    "df_2024 = df_2024.dropna()\n",
    "\n",
    "# Convert 'Spotify Streams' column to integers\n",
    "df_2024['Spotify Streams'] = df_2024['Spotify Streams'].astype(int)\n",
    "\n",
    "# Sort the DataFrame by 'Spotify Streams' in descending order\n",
    "df_2024_desc = df_2024.sort_values(by='Spotify Streams', ascending=False)\n",
    "\n",
    "print(df_2024_desc)"
   ]
  },
  {
   "cell_type": "code",
   "execution_count": null,
   "metadata": {},
   "outputs": [],
   "source": []
  }
 ],
 "metadata": {
  "kernelspec": {
   "display_name": "Python 3.12.2 64-bit",
   "language": "python",
   "name": "python3"
  },
  "language_info": {
   "codemirror_mode": {
    "name": "ipython",
    "version": 3
   },
   "file_extension": ".py",
   "mimetype": "text/x-python",
   "name": "python",
   "nbconvert_exporter": "python",
   "pygments_lexer": "ipython3",
   "version": "3.12.2"
  },
  "orig_nbformat": 4,
  "vscode": {
   "interpreter": {
    "hash": "31f2aee4e71d21fbe5cf8b01ff0e069b9275f58929596ceb00d14d90e3e16cd6"
   }
  }
 },
 "nbformat": 4,
 "nbformat_minor": 2
}
