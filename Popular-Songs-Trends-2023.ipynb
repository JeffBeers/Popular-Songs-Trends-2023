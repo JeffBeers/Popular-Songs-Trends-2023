{
 "cells": [
  {
   "cell_type": "code",
   "execution_count": null,
   "metadata": {},
   "outputs": [],
   "source": [
    "import pandas as pd"
   ]
  },
  {
   "cell_type": "code",
   "execution_count": null,
   "metadata": {},
   "outputs": [],
   "source": [
    "columns_to_read = ['track_name', 'artist(s)_name', 'streams', 'bpm', 'key', 'mode']\n",
    "df = pd.read_csv('spotify-2023.csv', usecols= columns_to_read, encoding= 'latin-1')\n",
    "df_desc = df.sort_values(by='streams', ascending= False)\n",
    "print(df_desc)"
   ]
  },
  {
   "cell_type": "markdown",
   "metadata": {},
   "source": [
    "Cleaning 1. \n",
    "The above code is cleaned by reading only the columns needed. The 'track_name' and 'artist(s)_name' columns identify the song and artist, the 'streams' column identifies the popularity of the song, and the 'bpm', 'key', and 'mode' columns identify the song's musical attributes.\n",
    "\n",
    "Then, we use .sort_values to put the the \"streams\" column in descending so we can see the most popular songs at the top of the dataframe."
   ]
  },
  {
   "cell_type": "code",
   "execution_count": null,
   "metadata": {},
   "outputs": [],
   "source": [
    "common_bpm = df['bpm'].mode()\n",
    "common_key = df['key'].mode()\n",
    "common_mode = df['mode'].mode()\n",
    "\n",
    "print(common_bpm)\n",
    "print(common_key)\n",
    "print(common_mode)"
   ]
  },
  {
   "cell_type": "markdown",
   "metadata": {},
   "source": [
    "Interpretation/Analysis 1a.\n",
    "Rather than tracking the songs based on popularity alone, we will also take a look at each song's musical attributes.\n",
    "After having the initial dataset cleaned, we want to find the most common musical attributes for the entire data set. \n",
    "We use .mode() to find the most common bpm, key, and mode used for each song. They are bpm=120, key=C#, mode=major."
   ]
  }
 ],
 "metadata": {
  "kernelspec": {
   "display_name": "Python 3.12.2 64-bit",
   "language": "python",
   "name": "python3"
  },
  "language_info": {
   "codemirror_mode": {
    "name": "ipython",
    "version": 3
   },
   "file_extension": ".py",
   "mimetype": "text/x-python",
   "name": "python",
   "nbconvert_exporter": "python",
   "pygments_lexer": "ipython3",
   "version": "3.12.2"
  },
  "orig_nbformat": 4,
  "vscode": {
   "interpreter": {
    "hash": "31f2aee4e71d21fbe5cf8b01ff0e069b9275f58929596ceb00d14d90e3e16cd6"
   }
  }
 },
 "nbformat": 4,
 "nbformat_minor": 2
}
