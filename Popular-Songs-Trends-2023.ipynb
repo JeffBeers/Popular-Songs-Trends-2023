{
 "cells": [
  {
   "cell_type": "code",
   "execution_count": null,
   "metadata": {},
   "outputs": [],
   "source": [
    "import pandas as pd"
   ]
  },
  {
   "cell_type": "code",
   "execution_count": 48,
   "metadata": {},
   "outputs": [
    {
     "name": "stdout",
     "output_type": "stream",
     "text": [
      "                                  track_name      artist(s)_name  \\\n",
      "574      Love Grows (Where My Rosemary Goes)   Edison Lighthouse   \n",
      "33                                 Anti-Hero        Taylor Swift   \n",
      "625                                   Arcade     Duncan Laurence   \n",
      "253                            Glimpse of Us                Joji   \n",
      "455                           Seek & Destroy                 SZA   \n",
      "..                                       ...                 ...   \n",
      "366                                  Revenge        XXXTENTACION   \n",
      "744                                 Right On            Lil Baby   \n",
      "515                             Best Friends          The Weeknd   \n",
      "500                               ýýýabcdefu               Gayle   \n",
      "301  Arcï¿½ï¿½ngel: Bzrp Music Sessions, Vol  Arcangel, Bizarrap   \n",
      "\n",
      "                                               streams  bpm key   mode  \n",
      "574  BPM110KeyAModeMajorDanceability53Valence75Ener...  110   A  Major  \n",
      "33                                           999748277   97   E  Major  \n",
      "625                                          991336132   72   A  Minor  \n",
      "253                                          988515741  170  G#  Major  \n",
      "455                                           98709329  152  C#  Major  \n",
      "..                                                 ...  ...  ..    ...  \n",
      "366                                         1022258230  140   B  Minor  \n",
      "744                                          101780047  166   D  Major  \n",
      "515                                          101114984   87   E  Minor  \n",
      "500                                         1007612429  122   E  Major  \n",
      "301                                          100409613  124   B  Minor  \n",
      "\n",
      "[953 rows x 6 columns]\n"
     ]
    }
   ],
   "source": [
    "columns_to_read = ['track_name', 'artist(s)_name', 'streams', 'bpm', 'key', 'mode']\n",
    "df = pd.read_csv('spotify-2023.csv', usecols= columns_to_read, encoding= 'latin-1')\n",
    "df_desc = df.sort_values(by='streams', ascending= False)\n",
    "print(df_desc)"
   ]
  },
  {
   "cell_type": "markdown",
   "metadata": {},
   "source": [
    "Cleaning 1: Columns and Sorting. \n",
    "\n",
    "The above code is cleaned by reading only the columns needed. The 'track_name' and 'artist(s)_name' columns identify the song and artist, the 'streams' column identifies the popularity of the song, and the 'bpm', 'key', and 'mode' columns identify the song's musical attributes.\n",
    "\n",
    "Then, we use .sort_values to put the the \"streams\" column in descending so we can see the most popular songs at the top of the dataframe."
   ]
  },
  {
   "cell_type": "code",
   "execution_count": null,
   "metadata": {},
   "outputs": [],
   "source": [
    "common_bpm = df['bpm'].mode()[0]\n",
    "common_key = df['key'].mode()[0]\n",
    "common_mode = df['mode'].mode()[0]\n",
    "\n",
    "print(common_bpm)\n",
    "print(common_key)\n",
    "print(common_mode)"
   ]
  },
  {
   "cell_type": "markdown",
   "metadata": {},
   "source": [
    "Interpretation/Analysis 1: Most Common Attributes.\n",
    "\n",
    "Rather than tracking the songs based on popularity alone, we will also take a look at each song's musical attributes.\n",
    "After having the initial dataset cleaned, we want to find the most common musical attributes for the entire data set. \n",
    "We use .mode() to find the most common bpm, key, and mode used for each song. They are bpm=120, key=C#, mode=Major."
   ]
  },
  {
   "cell_type": "code",
   "execution_count": 49,
   "metadata": {},
   "outputs": [
    {
     "name": "stdout",
     "output_type": "stream",
     "text": [
      "120 is the most common bpm of all the songs in the dataset. It occurs 39 times. This is 4.09 percent of the entire dataset.\n",
      "C# is the most common key of all the songs in the dataset. It occurs 120 times. This is 13.99 percent of the entire dataset.\n",
      "Major is the most common mode of all the songs in the dataset. It occurs 550 times. This is 57.71 percent of the entire dataset.\n"
     ]
    }
   ],
   "source": [
    "count_bpm = df['bpm'].value_counts()[common_bpm]\n",
    "total_bpm = df['bpm'].count()\n",
    "percentage_bpm = (count_bpm / total_bpm) * 100\n",
    "percentage_bpm = round(percentage_bpm, 2)\n",
    "\n",
    "count_key = df['key'].value_counts()[common_key]\n",
    "total_key = df['key'].count()\n",
    "percentage_key = (count_key / total_key) * 100\n",
    "percentage_key = round(percentage_key, 2)\n",
    "\n",
    "count_mode = df['mode'].value_counts()[common_mode]\n",
    "total_mode = df['mode'].count()\n",
    "percentage_mode = (count_mode / total_mode) * 100\n",
    "percentage_mode = round(percentage_mode, 2)\n",
    "\n",
    "\n",
    "print(common_bpm, 'is the most common bpm of all the songs in the dataset. It occurs', count_bpm, 'times.', 'This is', percentage_bpm, 'percent of the entire dataset.')\n",
    "print(common_key, 'is the most common key of all the songs in the dataset. It occurs', count_key, 'times.', 'This is', percentage_key, 'percent of the entire dataset.')\n",
    "print(common_mode, 'is the most common mode of all the songs in the dataset. It occurs', count_mode, 'times.', 'This is', percentage_mode, 'percent of the entire dataset.')"
   ]
  },
  {
   "cell_type": "markdown",
   "metadata": {},
   "source": [
    "Interpretation/Analysis 2: Percentage of Attributes.\n",
    "\n",
    "Now, we will calculate how often the the most common attributes occur in the entire dataset. This will take four lines of code:\n",
    "\n",
    "1: .value_counts() will count how many times an attribute occures in the column.\n",
    "\n",
    "2: .count() will count the total number of entries for the column.\n",
    "\n",
    "3: We divide the attribute count and total count, then multiply by 100 to get the percentage.\n",
    "\n",
    "4: the round() function will round the percentage to the nearest 2 decimal points."
   ]
  }
 ],
 "metadata": {
  "kernelspec": {
   "display_name": "Python 3.12.2 64-bit",
   "language": "python",
   "name": "python3"
  },
  "language_info": {
   "codemirror_mode": {
    "name": "ipython",
    "version": 3
   },
   "file_extension": ".py",
   "mimetype": "text/x-python",
   "name": "python",
   "nbconvert_exporter": "python",
   "pygments_lexer": "ipython3",
   "version": "3.12.2"
  },
  "orig_nbformat": 4,
  "vscode": {
   "interpreter": {
    "hash": "31f2aee4e71d21fbe5cf8b01ff0e069b9275f58929596ceb00d14d90e3e16cd6"
   }
  }
 },
 "nbformat": 4,
 "nbformat_minor": 2
}
